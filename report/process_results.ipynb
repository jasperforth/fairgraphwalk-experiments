{
 "cells": [
  {
   "cell_type": "code",
   "execution_count": 1,
   "metadata": {},
   "outputs": [
    {
     "name": "stderr",
     "output_type": "stream",
     "text": [
      "/Users/jf/.pyenv/versions/3.10.0/envs/arm_310thesis/lib/python3.10/site-packages/tqdm/auto.py:21: TqdmWarning: IProgress not found. Please update jupyter and ipywidgets. See https://ipywidgets.readthedocs.io/en/stable/user_install.html\n",
      "  from .autonotebook import tqdm as notebook_tqdm\n"
     ]
    }
   ],
   "source": [
    "from pathlib import Path\n",
    "\n",
    "from report_config import DATA_DIR, REPORT_DIR, SUB_EXPERIMENTS_NAME_START, ATTRIBUTES\n",
    "from report_utils import (create_reporting_process_dict, \n",
    "                          get_filtered_attributes, \n",
    "                          build_analyze_graph, \n",
    "                          create_confusion_reports, \n",
    "                          create_combined_reports, \n",
    ")\n",
    "                          "
   ]
  },
  {
   "cell_type": "markdown",
   "metadata": {},
   "source": [
    "## Process the experiment data directories \n",
    "\n",
    "**This is mandatory**\n",
    "\n",
    "Creating a dictionary of the experiment names, data directories, and corresponding experiment data files, based on the experiment data directories."
   ]
  },
  {
   "cell_type": "code",
   "execution_count": 2,
   "metadata": {},
   "outputs": [
    {
     "name": "stdout",
     "output_type": "stream",
     "text": [
      "Experiment/Graph name(s) found: \n",
      "pokec synthcorrattr\n",
      "/Volumes/tcs_jf_fair_node_sampling/TEST_SynthCorr/pokec_synthcorrlabels_02/data/pokec_synthcorrattr/resources\n",
      "With\n",
      "  Graph 1\n",
      "  Graph 0\n"
     ]
    }
   ],
   "source": [
    "d_experiments = create_reporting_process_dict(data_dir=DATA_DIR, \n",
    "                                              sub_ex_name_start=SUB_EXPERIMENTS_NAME_START, \n",
    "                                              )"
   ]
  },
  {
   "cell_type": "code",
   "execution_count": 3,
   "metadata": {},
   "outputs": [
    {
     "data": {
      "text/plain": [
       "defaultdict(dict,\n",
       "            {'pokec synthcorrattr': {'Graph_nrs': [1, 0],\n",
       "              'Experiment_dir': PosixPath('/Volumes/tcs_jf_fair_node_sampling/TEST_SynthCorr/pokec_synthcorrlabels_02/data/pokec_synthcorrattr')}})"
      ]
     },
     "execution_count": 3,
     "metadata": {},
     "output_type": "execute_result"
    }
   ],
   "source": [
    "d_experiments\n"
   ]
  },
  {
   "cell_type": "code",
   "execution_count": 4,
   "metadata": {},
   "outputs": [
    {
     "name": "stdout",
     "output_type": "stream",
     "text": [
      "dict_keys(['pokec synthcorrattr'])\n",
      "pokec synthcorrattr\n",
      "[1, 0]\n",
      "/Volumes/tcs_jf_fair_node_sampling/TEST_SynthCorr/pokec_synthcorrlabels_02/data/pokec_synthcorrattr\n"
     ]
    }
   ],
   "source": [
    "# print(d_experiments)\n",
    "print(d_experiments.keys())\n",
    "for key in d_experiments.keys():\n",
    "    print(key)\n",
    "    print(d_experiments[key][\"Graph_nrs\"])\n",
    "    print(d_experiments[key][\"Experiment_dir\"])\n"
   ]
  },
  {
   "cell_type": "markdown",
   "metadata": {},
   "source": [
    "## Choose the experiments and graphs to process\n",
    "\n",
    "**This is mandatory**\n",
    "\n",
    "- set the names of the experiment(s), and the index of the graph(s) to process"
   ]
  },
  {
   "cell_type": "code",
   "execution_count": 5,
   "metadata": {},
   "outputs": [
    {
     "name": "stdout",
     "output_type": "stream",
     "text": [
      "Attributes for pokec synthcorrattr Graph_nr_0: ['label_region', 'label_AGE', 'synth_AGE_classes_3_corrRL2_-0.01_from64clusters', 'synth_region_classes_5_corrRL2_0.01_from64clusters', 'synth_region_classes_4_corrRL2_-0.05_from64clusters', 'synth_region_classes_4_corrRL2_0.56_from256clusters', 'synth_AGE_classes_3_corrRL2_0.25_from1024clusters']\n",
      "Attributes for pokec synthcorrattr Graph_nr_1: ['label_region', 'label_AGE', 'synth_AGE_classes_3_corrRL2_0.29_from256clusters', 'synth_region_classes_3_corrRL2_0.54_from256clusters', 'synth_region_classes_3_corrRL2_-0.08_from64clusters', 'synth_region_classes_4_corrRL2_-0.05_from64clusters', 'synth_AGE_classes_3_corrRL2_-0.02_from64clusters', 'synth_AGE_classes_4_corrRL2_0.04_from64clusters']\n"
     ]
    }
   ],
   "source": [
    "experiments_list = [exp for exp in d_experiments.keys()]\n",
    "\n",
    "# experiments_list = ['pokec distinct']\n",
    "# print(experiments_list)\n",
    "graph_nrs = [\n",
    "    0, \n",
    "    1, \n",
    "    # 2, \n",
    "]\n",
    "\n",
    "\n",
    "d_graph_filtered_attributes, d_graph_attributes = get_filtered_attributes(d_experiments=d_experiments,\n",
    "                                                                     experiments_list=experiments_list, \n",
    "                                                                     graph_nrs=graph_nrs,\n",
    "                                                                     )\n",
    "# Print attributes for each graph\n",
    "for ex, graphs in d_graph_attributes.items():\n",
    "    for g_nr, attrs in graphs.items():\n",
    "        print(f\"Attributes for {ex} {g_nr}: {attrs}\")\n",
    "# d_graph_filtered_attributes"
   ]
  },
  {
   "cell_type": "code",
   "execution_count": 6,
   "metadata": {},
   "outputs": [],
   "source": [
    "# print(d_graph_attributes)"
   ]
  },
  {
   "cell_type": "code",
   "execution_count": 7,
   "metadata": {},
   "outputs": [
    {
     "name": "stdout",
     "output_type": "stream",
     "text": [
      "['label_region', 'label_AGE', 'synth_AGE_classes_3_corrRL2_-0.01_from64clusters', 'synth_region_classes_5_corrRL2_0.01_from64clusters', 'synth_region_classes_4_corrRL2_-0.05_from64clusters', 'synth_region_classes_4_corrRL2_0.56_from256clusters', 'synth_AGE_classes_3_corrRL2_0.25_from1024clusters']\n"
     ]
    }
   ],
   "source": [
    "df_attr = d_graph_attributes['pokec synthcorrattr'][f\"Graph_nr_{0}\"]\n",
    "print(df_attr)"
   ]
  },
  {
   "cell_type": "code",
   "execution_count": 8,
   "metadata": {},
   "outputs": [
    {
     "data": {
      "text/html": [
       "<div>\n",
       "<style scoped>\n",
       "    .dataframe tbody tr th:only-of-type {\n",
       "        vertical-align: middle;\n",
       "    }\n",
       "\n",
       "    .dataframe tbody tr th {\n",
       "        vertical-align: top;\n",
       "    }\n",
       "\n",
       "    .dataframe thead th {\n",
       "        text-align: right;\n",
       "    }\n",
       "</style>\n",
       "<table border=\"1\" class=\"dataframe\">\n",
       "  <thead>\n",
       "    <tr style=\"text-align: right;\">\n",
       "      <th></th>\n",
       "      <th>user_id</th>\n",
       "      <th>region</th>\n",
       "      <th>AGE</th>\n",
       "      <th>label_region</th>\n",
       "      <th>label_AGE</th>\n",
       "      <th>synth_AGE_classes_3_corrRL2_0.29_from256clusters</th>\n",
       "      <th>synth_region_classes_3_corrRL2_0.54_from256clusters</th>\n",
       "      <th>synth_region_classes_3_corrRL2_-0.08_from64clusters</th>\n",
       "      <th>synth_region_classes_4_corrRL2_-0.05_from64clusters</th>\n",
       "      <th>synth_AGE_classes_3_corrRL2_-0.02_from64clusters</th>\n",
       "      <th>synth_AGE_classes_4_corrRL2_0.04_from64clusters</th>\n",
       "    </tr>\n",
       "  </thead>\n",
       "  <tbody>\n",
       "    <tr>\n",
       "      <th>0</th>\n",
       "      <td>1988</td>\n",
       "      <td>trnavsky kraj, velky meder</td>\n",
       "      <td>21.0</td>\n",
       "      <td>0</td>\n",
       "      <td>1</td>\n",
       "      <td>0</td>\n",
       "      <td>0</td>\n",
       "      <td>1</td>\n",
       "      <td>3</td>\n",
       "      <td>1</td>\n",
       "      <td>0</td>\n",
       "    </tr>\n",
       "    <tr>\n",
       "      <th>1</th>\n",
       "      <td>25028</td>\n",
       "      <td>trnavsky kraj, velky meder</td>\n",
       "      <td>25.0</td>\n",
       "      <td>0</td>\n",
       "      <td>2</td>\n",
       "      <td>0</td>\n",
       "      <td>1</td>\n",
       "      <td>0</td>\n",
       "      <td>1</td>\n",
       "      <td>0</td>\n",
       "      <td>2</td>\n",
       "    </tr>\n",
       "    <tr>\n",
       "      <th>2</th>\n",
       "      <td>40738</td>\n",
       "      <td>trnavsky kraj, velky meder</td>\n",
       "      <td>20.0</td>\n",
       "      <td>0</td>\n",
       "      <td>1</td>\n",
       "      <td>0</td>\n",
       "      <td>1</td>\n",
       "      <td>1</td>\n",
       "      <td>3</td>\n",
       "      <td>1</td>\n",
       "      <td>0</td>\n",
       "    </tr>\n",
       "    <tr>\n",
       "      <th>3</th>\n",
       "      <td>54987</td>\n",
       "      <td>trnavsky kraj, velky meder</td>\n",
       "      <td>16.0</td>\n",
       "      <td>0</td>\n",
       "      <td>0</td>\n",
       "      <td>1</td>\n",
       "      <td>0</td>\n",
       "      <td>0</td>\n",
       "      <td>3</td>\n",
       "      <td>0</td>\n",
       "      <td>1</td>\n",
       "    </tr>\n",
       "    <tr>\n",
       "      <th>4</th>\n",
       "      <td>65155</td>\n",
       "      <td>trnavsky kraj, velky meder</td>\n",
       "      <td>21.0</td>\n",
       "      <td>0</td>\n",
       "      <td>1</td>\n",
       "      <td>0</td>\n",
       "      <td>0</td>\n",
       "      <td>1</td>\n",
       "      <td>2</td>\n",
       "      <td>1</td>\n",
       "      <td>1</td>\n",
       "    </tr>\n",
       "  </tbody>\n",
       "</table>\n",
       "</div>"
      ],
      "text/plain": [
       "   user_id                      region   AGE  label_region  label_AGE  \\\n",
       "0     1988  trnavsky kraj, velky meder  21.0             0          1   \n",
       "1    25028  trnavsky kraj, velky meder  25.0             0          2   \n",
       "2    40738  trnavsky kraj, velky meder  20.0             0          1   \n",
       "3    54987  trnavsky kraj, velky meder  16.0             0          0   \n",
       "4    65155  trnavsky kraj, velky meder  21.0             0          1   \n",
       "\n",
       "   synth_AGE_classes_3_corrRL2_0.29_from256clusters  \\\n",
       "0                                                 0   \n",
       "1                                                 0   \n",
       "2                                                 0   \n",
       "3                                                 1   \n",
       "4                                                 0   \n",
       "\n",
       "   synth_region_classes_3_corrRL2_0.54_from256clusters  \\\n",
       "0                                                  0     \n",
       "1                                                  1     \n",
       "2                                                  1     \n",
       "3                                                  0     \n",
       "4                                                  0     \n",
       "\n",
       "   synth_region_classes_3_corrRL2_-0.08_from64clusters  \\\n",
       "0                                                  1     \n",
       "1                                                  0     \n",
       "2                                                  1     \n",
       "3                                                  0     \n",
       "4                                                  1     \n",
       "\n",
       "   synth_region_classes_4_corrRL2_-0.05_from64clusters  \\\n",
       "0                                                  3     \n",
       "1                                                  1     \n",
       "2                                                  3     \n",
       "3                                                  3     \n",
       "4                                                  2     \n",
       "\n",
       "   synth_AGE_classes_3_corrRL2_-0.02_from64clusters  \\\n",
       "0                                                 1   \n",
       "1                                                 0   \n",
       "2                                                 1   \n",
       "3                                                 0   \n",
       "4                                                 1   \n",
       "\n",
       "   synth_AGE_classes_4_corrRL2_0.04_from64clusters  \n",
       "0                                                0  \n",
       "1                                                2  \n",
       "2                                                0  \n",
       "3                                                1  \n",
       "4                                                1  "
      ]
     },
     "execution_count": 8,
     "metadata": {},
     "output_type": "execute_result"
    }
   ],
   "source": [
    "import pandas as pd \n",
    "df_attr_path = Path('/Volumes/tcs_jf_fair_node_sampling/TEST_SynthCorr/pokec_synthcorrlabels_02/data/pokec_synthcorrattr/resources/graph_dir_1/filtered_attributes.csv')\n",
    "df_attr = pd.read_csv(df_attr_path)\n",
    "\n",
    "df_attr.head()"
   ]
  },
  {
   "cell_type": "code",
   "execution_count": 9,
   "metadata": {},
   "outputs": [
    {
     "data": {
      "text/plain": [
       "dict_keys(['pokec synthcorrattr'])"
      ]
     },
     "execution_count": 9,
     "metadata": {},
     "output_type": "execute_result"
    }
   ],
   "source": [
    "d_graph_filtered_attributes.keys()"
   ]
  },
  {
   "cell_type": "markdown",
   "metadata": {},
   "source": [
    "## Create a Visula plots and a CSV with some graph data; as connectivity, number of nodes, number of edges, etc.\n",
    "\n",
    "**This is optional** (time full example: <1min)\n",
    "\n",
    "note: igraph and networkx tools can be expanded in \\data_utils\\graph"
   ]
  },
  {
   "cell_type": "code",
   "execution_count": 10,
   "metadata": {},
   "outputs": [
    {
     "ename": "TypeError",
     "evalue": "build_analyze_graph() got an unexpected keyword argument 'd_graph_filtered_attributes'",
     "output_type": "error",
     "traceback": [
      "\u001b[0;31m---------------------------------------------------------------------------\u001b[0m",
      "\u001b[0;31mTypeError\u001b[0m                                 Traceback (most recent call last)",
      "Cell \u001b[0;32mIn[10], line 1\u001b[0m\n\u001b[0;32m----> 1\u001b[0m \u001b[43mbuild_analyze_graph\u001b[49m\u001b[43m(\u001b[49m\n\u001b[1;32m      2\u001b[0m \u001b[43m    \u001b[49m\u001b[43md_experiments\u001b[49m\u001b[38;5;241;43m=\u001b[39;49m\u001b[43md_experiments\u001b[49m\u001b[43m,\u001b[49m\n\u001b[1;32m      3\u001b[0m \u001b[43m    \u001b[49m\u001b[43md_graph_filtered_attributes\u001b[49m\u001b[38;5;241;43m=\u001b[39;49m\u001b[43md_graph_filtered_attributes\u001b[49m\u001b[43m,\u001b[49m\n\u001b[1;32m      4\u001b[0m \u001b[43m    \u001b[49m\u001b[43md_graph_attributes\u001b[49m\u001b[38;5;241;43m=\u001b[39;49m\u001b[43md_graph_attributes\u001b[49m\u001b[43m,\u001b[49m\n\u001b[1;32m      5\u001b[0m \u001b[43m    \u001b[49m\u001b[43mexperiments_list\u001b[49m\u001b[38;5;241;43m=\u001b[39;49m\u001b[43mexperiments_list\u001b[49m\u001b[43m,\u001b[49m\n\u001b[1;32m      6\u001b[0m \u001b[43m    \u001b[49m\u001b[43mgraph_nrs\u001b[49m\u001b[38;5;241;43m=\u001b[39;49m\u001b[43mgraph_nrs\u001b[49m\u001b[43m,\u001b[49m\n\u001b[1;32m      7\u001b[0m \u001b[43m    \u001b[49m\u001b[43mreport_dir\u001b[49m\u001b[38;5;241;43m=\u001b[39;49m\u001b[43mREPORT_DIR\u001b[49m\u001b[43m,\u001b[49m\n\u001b[1;32m      8\u001b[0m \u001b[43m)\u001b[49m\n",
      "\u001b[0;31mTypeError\u001b[0m: build_analyze_graph() got an unexpected keyword argument 'd_graph_filtered_attributes'"
     ]
    }
   ],
   "source": [
    "build_analyze_graph(\n",
    "    d_experiments=d_experiments,\n",
    "    d_graph_attributes=d_graph_attributes,\n",
    "    experiments_list=experiments_list,\n",
    "    graph_nrs=graph_nrs,\n",
    "    report_dir=REPORT_DIR,\n",
    ")"
   ]
  },
  {
   "cell_type": "markdown",
   "metadata": {},
   "source": [
    "# Create confusion matrix and avg classification reports\n",
    "\n",
    "note: This needs some time to run (<1min for full example ). \n"
   ]
  },
  {
   "cell_type": "markdown",
   "metadata": {},
   "source": [
    "### Confusion matrices \n",
    "The results are saved in the \\reports\\confusion_reports directory.\n"
   ]
  },
  {
   "cell_type": "code",
   "execution_count": null,
   "metadata": {},
   "outputs": [],
   "source": [
    "create_confusion_reports(\n",
    "    d_experiments=d_experiments, \n",
    "    d_graph_filtered_attributes=d_graph_filtered_attributes, \n",
    "    report_dir=REPORT_DIR, \n",
    "    experiments_list=experiments_list, \n",
    "    graph_nrs=graph_nrs\n",
    ")"
   ]
  },
  {
   "cell_type": "markdown",
   "metadata": {},
   "source": [
    "### Combined reports\n",
    "\n",
    "for plotting over multiple experiments, the code will create a combined report for each graph and biasing strategy"
   ]
  },
  {
   "cell_type": "code",
   "execution_count": null,
   "metadata": {},
   "outputs": [],
   "source": [
    "create_combined_reports(\n",
    "    d_experiments=d_experiments, \n",
    "    report_dir=REPORT_DIR, \n",
    "    graph_nrs=graph_nrs, \n",
    ")"
   ]
  }
 ],
 "metadata": {
  "kernelspec": {
   "display_name": "arm_310thesis",
   "language": "python",
   "name": "python3"
  },
  "language_info": {
   "codemirror_mode": {
    "name": "ipython",
    "version": 3
   },
   "file_extension": ".py",
   "mimetype": "text/x-python",
   "name": "python",
   "nbconvert_exporter": "python",
   "pygments_lexer": "ipython3",
   "version": "3.10.0"
  }
 },
 "nbformat": 4,
 "nbformat_minor": 2
}

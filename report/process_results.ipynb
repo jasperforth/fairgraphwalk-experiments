{
 "cells": [
  {
   "cell_type": "code",
   "execution_count": 1,
   "metadata": {},
   "outputs": [
    {
     "name": "stderr",
     "output_type": "stream",
     "text": [
      "/Users/jf/.pyenv/versions/3.10.0/envs/arm_310thesis/lib/python3.10/site-packages/tqdm/auto.py:21: TqdmWarning: IProgress not found. Please update jupyter and ipywidgets. See https://ipywidgets.readthedocs.io/en/stable/user_install.html\n",
      "  from .autonotebook import tqdm as notebook_tqdm\n"
     ]
    }
   ],
   "source": [
    "from pathlib import Path\n",
    "\n",
    "from report_config import DATA_DIR, REPORT_DIR, SUB_EXPERIMENTS_NAME_START, ATTRIBUTES\n",
    "from report_utils import (create_reporting_process_dict, \n",
    "                          get_filtered_attributes, \n",
    "                          build_analyze_graph, \n",
    "                          create_confusion_reports, \n",
    "                          create_combined_reports, \n",
    ")\n",
    "                          "
   ]
  },
  {
   "cell_type": "markdown",
   "metadata": {},
   "source": [
    "## Process the experiment data directories \n",
    "\n",
    "**This is mandatory**\n",
    "\n",
    "Creating a dictionary of the experiment names, data directories, and corresponding experiment data files."
   ]
  },
  {
   "cell_type": "code",
   "execution_count": 2,
   "metadata": {},
   "outputs": [
    {
     "name": "stdout",
     "output_type": "stream",
     "text": [
      "Experiment/Graph name(s) found: \n",
      "pokec semi\n",
      "/Volumes/tcs_jf_fair_node_sampling/test_exprmt_diff_nr_graphs/data/pokec_semi/resources\n",
      "With\n",
      "  Graph 0\n",
      "pokec distinct\n",
      "/Volumes/tcs_jf_fair_node_sampling/test_exprmt_diff_nr_graphs/data/pokec_distinct/resources\n",
      "With\n",
      "  Graph 1\n",
      "  Graph 0\n"
     ]
    }
   ],
   "source": [
    "d_experiments = create_reporting_process_dict(data_dir=DATA_DIR, \n",
    "                                              sub_ex_name_start=SUB_EXPERIMENTS_NAME_START, \n",
    "                                              )"
   ]
  },
  {
   "cell_type": "code",
   "execution_count": 3,
   "metadata": {},
   "outputs": [
    {
     "name": "stdout",
     "output_type": "stream",
     "text": [
      "dict_keys(['pokec semi', 'pokec distinct'])\n",
      "pokec semi\n",
      "[0]\n",
      "/Volumes/tcs_jf_fair_node_sampling/test_exprmt_diff_nr_graphs/data/pokec_semi\n",
      "pokec distinct\n",
      "[1, 0]\n",
      "/Volumes/tcs_jf_fair_node_sampling/test_exprmt_diff_nr_graphs/data/pokec_distinct\n"
     ]
    }
   ],
   "source": [
    "# print(d_experiments)\n",
    "print(d_experiments.keys())\n",
    "for key in d_experiments.keys():\n",
    "    print(key)\n",
    "    print(d_experiments[key][\"Graph_nrs\"])\n",
    "    print(d_experiments[key][\"Experiment_dir\"])\n"
   ]
  },
  {
   "cell_type": "markdown",
   "metadata": {},
   "source": [
    "## Choose the experiments and graphs to process\n",
    "\n",
    "**This is mandatory**\n",
    "\n",
    "- set the names of the experiment(s), and the index of the graph(s) to process"
   ]
  },
  {
   "cell_type": "code",
   "execution_count": 4,
   "metadata": {},
   "outputs": [
    {
     "name": "stdout",
     "output_type": "stream",
     "text": [
      "Graph 1 of experiment pokec semi not found in the dictionary\n"
     ]
    },
    {
     "data": {
      "text/plain": [
       "defaultdict(dict,\n",
       "            {'pokec semi': {'Graph_nr_0':       user_id  label_region  label_AGE\n",
       "              0        2142             0          2\n",
       "              1        3647             0          2\n",
       "              2        4916             0          2\n",
       "              3        7587             0          2\n",
       "              4        8124             0          2\n",
       "              ...       ...           ...        ...\n",
       "              9235  1596545             3          2\n",
       "              9236  1599400             3          2\n",
       "              9237  1621406             3          2\n",
       "              9238  1625668             3          2\n",
       "              9239  1625748             3          2\n",
       "              \n",
       "              [9240 rows x 3 columns]},\n",
       "             'pokec distinct': {'Graph_nr_0':       user_id  label_region  label_AGE\n",
       "              0        1988             0          1\n",
       "              1       25028             0          2\n",
       "              2       40738             0          1\n",
       "              3       54987             0          0\n",
       "              4       65155             0          1\n",
       "              ...       ...           ...        ...\n",
       "              2499  1572048             2          2\n",
       "              2500  1581810             2          2\n",
       "              2501  1590462             2          2\n",
       "              2502  1612784             2          2\n",
       "              2503  1612790             2          2\n",
       "              \n",
       "              [2504 rows x 3 columns],\n",
       "              'Graph_nr_1':        user_id  label_region  label_AGE\n",
       "              0           11             0          2\n",
       "              1           12             0          2\n",
       "              2          211             0          2\n",
       "              3          212             0          1\n",
       "              4          213             0          1\n",
       "              ...        ...           ...        ...\n",
       "              10287  1632200             1          2\n",
       "              10288  1632353             1          2\n",
       "              10289  1632405             1          2\n",
       "              10290  1632587             1          2\n",
       "              10291  1632803             1          2\n",
       "              \n",
       "              [10292 rows x 3 columns]}})"
      ]
     },
     "execution_count": 4,
     "metadata": {},
     "output_type": "execute_result"
    }
   ],
   "source": [
    "experiments_list = [exp for exp in d_experiments.keys()]\n",
    "\n",
    "# experiments_list = ['pokec distinct']\n",
    "# print(experiments_list)\n",
    "graph_nrs = [\n",
    "    0, \n",
    "    1, \n",
    "    ]\n",
    "\n",
    "# print(\"Attributes: \", ATTRIBUTES)\n",
    "attributes = [f\"label_{attr}\" for attr in ATTRIBUTES]\n",
    "# print(attributes)\n",
    "\n",
    "d_graph_filtered_attributes = get_filtered_attributes(d_experiments=d_experiments,\n",
    "                                                                     experiments_list=experiments_list, \n",
    "                                                                     graph_nrs=graph_nrs,\n",
    "                                                                     attributes=attributes, \n",
    "                                                                     )\n",
    "d_graph_filtered_attributes"
   ]
  },
  {
   "cell_type": "code",
   "execution_count": 5,
   "metadata": {},
   "outputs": [
    {
     "data": {
      "text/plain": [
       "dict_keys(['pokec semi', 'pokec distinct'])"
      ]
     },
     "execution_count": 5,
     "metadata": {},
     "output_type": "execute_result"
    }
   ],
   "source": [
    "d_graph_filtered_attributes.keys()"
   ]
  },
  {
   "cell_type": "code",
   "execution_count": 6,
   "metadata": {},
   "outputs": [
    {
     "data": {
      "text/html": [
       "<div>\n",
       "<style scoped>\n",
       "    .dataframe tbody tr th:only-of-type {\n",
       "        vertical-align: middle;\n",
       "    }\n",
       "\n",
       "    .dataframe tbody tr th {\n",
       "        vertical-align: top;\n",
       "    }\n",
       "\n",
       "    .dataframe thead th {\n",
       "        text-align: right;\n",
       "    }\n",
       "</style>\n",
       "<table border=\"1\" class=\"dataframe\">\n",
       "  <thead>\n",
       "    <tr style=\"text-align: right;\">\n",
       "      <th></th>\n",
       "      <th>user_id</th>\n",
       "      <th>label_region</th>\n",
       "      <th>label_AGE</th>\n",
       "    </tr>\n",
       "  </thead>\n",
       "  <tbody>\n",
       "    <tr>\n",
       "      <th>0</th>\n",
       "      <td>1988</td>\n",
       "      <td>0</td>\n",
       "      <td>1</td>\n",
       "    </tr>\n",
       "    <tr>\n",
       "      <th>1</th>\n",
       "      <td>25028</td>\n",
       "      <td>0</td>\n",
       "      <td>2</td>\n",
       "    </tr>\n",
       "    <tr>\n",
       "      <th>2</th>\n",
       "      <td>40738</td>\n",
       "      <td>0</td>\n",
       "      <td>1</td>\n",
       "    </tr>\n",
       "    <tr>\n",
       "      <th>3</th>\n",
       "      <td>54987</td>\n",
       "      <td>0</td>\n",
       "      <td>0</td>\n",
       "    </tr>\n",
       "    <tr>\n",
       "      <th>4</th>\n",
       "      <td>65155</td>\n",
       "      <td>0</td>\n",
       "      <td>1</td>\n",
       "    </tr>\n",
       "  </tbody>\n",
       "</table>\n",
       "</div>"
      ],
      "text/plain": [
       "   user_id  label_region  label_AGE\n",
       "0     1988             0          1\n",
       "1    25028             0          2\n",
       "2    40738             0          1\n",
       "3    54987             0          0\n",
       "4    65155             0          1"
      ]
     },
     "execution_count": 6,
     "metadata": {},
     "output_type": "execute_result"
    }
   ],
   "source": [
    "df_filtered_attributes = d_graph_filtered_attributes.get('pokec distinct').get(f\"Graph_nr_0\")\n",
    "df_filtered_attributes.head()"
   ]
  },
  {
   "cell_type": "markdown",
   "metadata": {},
   "source": [
    "## Create a Visula plots and a CSV with some graph data; as connectivity, number of nodes, number of edges, etc.\n",
    "\n",
    "**This is optional** (time full example: <1min)\n",
    "\n",
    "note: igraph and networkx tools can be expanded in \\data_utils\\graph"
   ]
  },
  {
   "cell_type": "code",
   "execution_count": 7,
   "metadata": {},
   "outputs": [
    {
     "name": "stdout",
     "output_type": "stream",
     "text": [
      "Graph 0 of experiment pokec semi analyzed                                     \n",
      " and saved to /Volumes/tcs_jf_fair_node_sampling/test_exprmt_diff_nr_graphs/data/reports / graph_plots and / graph_specs\n",
      "Graph 0 of experiment pokec distinct analyzed                                     \n",
      " and saved to /Volumes/tcs_jf_fair_node_sampling/test_exprmt_diff_nr_graphs/data/reports / graph_plots and / graph_specs\n",
      "Graph 1 of experiment pokec distinct analyzed                                     \n",
      " and saved to /Volumes/tcs_jf_fair_node_sampling/test_exprmt_diff_nr_graphs/data/reports / graph_plots and / graph_specs\n"
     ]
    }
   ],
   "source": [
    "build_analyze_graph(d_experiments=d_experiments,\n",
    "                                    experiments_list=experiments_list,\n",
    "                                    graph_nrs=graph_nrs,\n",
    "                                    report_dir=REPORT_DIR,\n",
    "                                    attributes=ATTRIBUTES,\n",
    "                                    )"
   ]
  },
  {
   "cell_type": "markdown",
   "metadata": {},
   "source": [
    "# Create confusion matrix and avg classification reports\n",
    "\n",
    "note: This needs some time to run (<1min for full example ). \n"
   ]
  },
  {
   "cell_type": "markdown",
   "metadata": {},
   "source": [
    "### Confusion matrices \n",
    "The results are saved in the \\reports\\confusion_reports directory.\n"
   ]
  },
  {
   "cell_type": "code",
   "execution_count": 8,
   "metadata": {},
   "outputs": [
    {
     "name": "stdout",
     "output_type": "stream",
     "text": [
      "Graph dir: /Volumes/tcs_jf_fair_node_sampling/test_exprmt_diff_nr_graphs/data/pokec_semi/results/graph_0, \n",
      "                             exp_graph_name: pokec semi 0, \n",
      "                             graph_name: graph_0\n",
      "Confusion reports for pokec semi 0 created                 \n",
      "and saved in /Volumes/tcs_jf_fair_node_sampling/test_exprmt_diff_nr_graphs/data/reports/confusion_reports.\n",
      "Graph dir: /Volumes/tcs_jf_fair_node_sampling/test_exprmt_diff_nr_graphs/data/pokec_distinct/results/graph_0, \n",
      "                             exp_graph_name: pokec distinct 0, \n",
      "                             graph_name: graph_0\n",
      "Confusion reports for pokec distinct 0 created                 \n",
      "and saved in /Volumes/tcs_jf_fair_node_sampling/test_exprmt_diff_nr_graphs/data/reports/confusion_reports.\n",
      "Graph dir: /Volumes/tcs_jf_fair_node_sampling/test_exprmt_diff_nr_graphs/data/pokec_distinct/results/graph_1, \n",
      "                             exp_graph_name: pokec distinct 1, \n",
      "                             graph_name: graph_1\n",
      "Confusion reports for pokec distinct 1 created                 \n",
      "and saved in /Volumes/tcs_jf_fair_node_sampling/test_exprmt_diff_nr_graphs/data/reports/confusion_reports.\n"
     ]
    }
   ],
   "source": [
    "create_confusion_reports(d_experiments=d_experiments, \n",
    "                                             d_graph_filtered_attributes=d_graph_filtered_attributes, \n",
    "                                             report_dir=REPORT_DIR, \n",
    "                                             experiments_list=experiments_list, \n",
    "                                             graph_nrs=graph_nrs\n",
    "                                             )"
   ]
  },
  {
   "cell_type": "markdown",
   "metadata": {},
   "source": [
    "### Combined reports\n",
    "\n",
    "for plotting over multiple experiments, the code will create a combined report for each graph and biasing strategy"
   ]
  },
  {
   "cell_type": "code",
   "execution_count": 9,
   "metadata": {},
   "outputs": [
    {
     "name": "stderr",
     "output_type": "stream",
     "text": [
      "/Users/jf/_lokal/PAPER1_fairnode/fair_nodesampling/report/report_utils/pokec_combined_reports.py:87: FutureWarning: The behavior of DataFrame concatenation with empty or all-NA entries is deprecated. In a future version, this will no longer exclude empty or all-NA columns when determining the result dtypes. To retain the old behavior, exclude the relevant entries before the concat operation.\n",
      "  combined_df = pd.concat([combined_df, pd.DataFrame({\n",
      "/Users/jf/_lokal/PAPER1_fairnode/fair_nodesampling/report/report_utils/pokec_combined_reports.py:137: FutureWarning: The behavior of DataFrame concatenation with empty or all-NA entries is deprecated. In a future version, this will no longer exclude empty or all-NA columns when determining the result dtypes. To retain the old behavior, exclude the relevant entries before the concat operation.\n",
      "  combined_df = pd.concat([combined_df, pd.DataFrame({\n",
      "/Users/jf/_lokal/PAPER1_fairnode/fair_nodesampling/report/report_utils/pokec_combined_reports.py:137: FutureWarning: The behavior of DataFrame concatenation with empty or all-NA entries is deprecated. In a future version, this will no longer exclude empty or all-NA columns when determining the result dtypes. To retain the old behavior, exclude the relevant entries before the concat operation.\n",
      "  combined_df = pd.concat([combined_df, pd.DataFrame({\n",
      "/Users/jf/_lokal/PAPER1_fairnode/fair_nodesampling/report/report_utils/pokec_combined_reports.py:87: FutureWarning: The behavior of DataFrame concatenation with empty or all-NA entries is deprecated. In a future version, this will no longer exclude empty or all-NA columns when determining the result dtypes. To retain the old behavior, exclude the relevant entries before the concat operation.\n",
      "  combined_df = pd.concat([combined_df, pd.DataFrame({\n",
      "/Users/jf/_lokal/PAPER1_fairnode/fair_nodesampling/report/report_utils/pokec_combined_reports.py:137: FutureWarning: The behavior of DataFrame concatenation with empty or all-NA entries is deprecated. In a future version, this will no longer exclude empty or all-NA columns when determining the result dtypes. To retain the old behavior, exclude the relevant entries before the concat operation.\n",
      "  combined_df = pd.concat([combined_df, pd.DataFrame({\n",
      "/Users/jf/_lokal/PAPER1_fairnode/fair_nodesampling/report/report_utils/pokec_combined_reports.py:137: FutureWarning: The behavior of DataFrame concatenation with empty or all-NA entries is deprecated. In a future version, this will no longer exclude empty or all-NA columns when determining the result dtypes. To retain the old behavior, exclude the relevant entries before the concat operation.\n",
      "  combined_df = pd.concat([combined_df, pd.DataFrame({\n",
      "/Users/jf/_lokal/PAPER1_fairnode/fair_nodesampling/report/report_utils/pokec_combined_reports.py:87: FutureWarning: The behavior of DataFrame concatenation with empty or all-NA entries is deprecated. In a future version, this will no longer exclude empty or all-NA columns when determining the result dtypes. To retain the old behavior, exclude the relevant entries before the concat operation.\n",
      "  combined_df = pd.concat([combined_df, pd.DataFrame({\n",
      "/Users/jf/_lokal/PAPER1_fairnode/fair_nodesampling/report/report_utils/pokec_combined_reports.py:137: FutureWarning: The behavior of DataFrame concatenation with empty or all-NA entries is deprecated. In a future version, this will no longer exclude empty or all-NA columns when determining the result dtypes. To retain the old behavior, exclude the relevant entries before the concat operation.\n",
      "  combined_df = pd.concat([combined_df, pd.DataFrame({\n",
      "/Users/jf/_lokal/PAPER1_fairnode/fair_nodesampling/report/report_utils/pokec_combined_reports.py:137: FutureWarning: The behavior of DataFrame concatenation with empty or all-NA entries is deprecated. In a future version, this will no longer exclude empty or all-NA columns when determining the result dtypes. To retain the old behavior, exclude the relevant entries before the concat operation.\n",
      "  combined_df = pd.concat([combined_df, pd.DataFrame({\n"
     ]
    }
   ],
   "source": [
    "create_combined_reports(d_experiments=d_experiments, \n",
    "                                       report_dir=REPORT_DIR, \n",
    "                                       graph_nrs=graph_nrs, \n",
    "                                       )"
   ]
  }
 ],
 "metadata": {
  "kernelspec": {
   "display_name": "arm_310thesis",
   "language": "python",
   "name": "python3"
  },
  "language_info": {
   "codemirror_mode": {
    "name": "ipython",
    "version": 3
   },
   "file_extension": ".py",
   "mimetype": "text/x-python",
   "name": "python",
   "nbconvert_exporter": "python",
   "pygments_lexer": "ipython3",
   "version": "3.10.0"
  }
 },
 "nbformat": 4,
 "nbformat_minor": 2
}

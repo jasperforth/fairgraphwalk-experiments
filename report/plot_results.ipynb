{
 "cells": [
  {
   "cell_type": "code",
   "execution_count": 1,
   "metadata": {},
   "outputs": [
    {
     "name": "stderr",
     "output_type": "stream",
     "text": [
      "/Users/jf/.pyenv/versions/3.10.0/envs/arm_310thesis/lib/python3.10/site-packages/tqdm/auto.py:21: TqdmWarning: IProgress not found. Please update jupyter and ipywidgets. See https://ipywidgets.readthedocs.io/en/stable/user_install.html\n",
      "  from .autonotebook import tqdm as notebook_tqdm\n"
     ]
    }
   ],
   "source": [
    "from pathlib import Path\n",
    "\n",
    "from report_config import DATA_DIR, SUB_EXPERIMENTS_NAME_START, ATTRIBUTES\n",
    "\n",
    "from report_utils import plot_tsne, create_reporting_process_dict"
   ]
  },
  {
   "cell_type": "code",
   "execution_count": 2,
   "metadata": {},
   "outputs": [],
   "source": [
    "plotting_folder_name = 'plotting_exmpl'\n",
    "\n",
    "plotting_dir = DATA_DIR / plotting_folder_name"
   ]
  },
  {
   "cell_type": "markdown",
   "metadata": {},
   "source": [
    "# TSNE Plotting\n",
    "\n",
    "choose the parameter combinations which you want to plot in tsne dict.\n",
    "\n",
    "further define if you want to plot for:\n",
    "\n",
    "experiment name\n",
    "\n",
    "graph numbers\n",
    "\n",
    "baseline and/or biased"
   ]
  },
  {
   "cell_type": "code",
   "execution_count": 5,
   "metadata": {},
   "outputs": [],
   "source": [
    "experiments_list = [\n",
    "    # 'pokec distinct',\n",
    "    'pokec semi'\n",
    "    ]\n",
    "\n",
    "graph_nrs = [\n",
    "    0,\n",
    "    1, \n",
    "]\n",
    "\n",
    "tsne_baseline = 1\n",
    "tsne_biased = 1\n",
    "\n",
    "tsne_dict = {\"p\": [1], \n",
    "             \"q\": [1], \n",
    "             \"alpha\": [0.2, 0.8], \n",
    "             \"exponent\": [8]\n",
    "}"
   ]
  },
  {
   "cell_type": "code",
   "execution_count": 6,
   "metadata": {},
   "outputs": [
    {
     "name": "stdout",
     "output_type": "stream",
     "text": [
      "Experiment/Graph name(s) found: \n",
      "pokec semi\n",
      "/Volumes/tcs_jf_fair_node_sampling/test_exprmt_diff_nr_graphs/data/pokec_semi/resources\n",
      "With\n",
      "  Graph 0\n",
      "pokec distinct\n",
      "/Volumes/tcs_jf_fair_node_sampling/test_exprmt_diff_nr_graphs/data/pokec_distinct/resources\n",
      "With\n",
      "  Graph 1\n",
      "  Graph 0\n",
      "Computing tsne-plots for experiment pokec semi graph 0\n",
      "PQ COMBINATIONS ['p_1_q_1']\n",
      "PQXE COMBINATIONS ['_alpha_0.2_exponent_8_p_1_q_1', '_alpha_0.8_exponent_8_p_1_q_1']\n",
      "EMB FILE NAME p_1_q_0.1.emb.gz\n",
      "Found _alpha_0.2_exponent_8_p_1_q_1 in prewalk_6_alpha_0.2_exponent_8_p_1_q_1_sens_label_region_other_label_AGE.emb.gz for experiment pokec semi graph 0\n",
      "Computing TSNE for /Volumes/tcs_jf_fair_node_sampling/test_exprmt_diff_nr_graphs/data/plotting_exmpl/tsne_plots/pokec semi_0__alpha_0.2_exponent_8_p_1_q_1_other_AGE.pdf\n",
      "[t-SNE] Computing 91 nearest neighbors...\n",
      "[t-SNE] Indexed 9240 samples in 0.000s...\n",
      "[t-SNE] Computed neighbors for 9240 samples in 0.905s...\n",
      "[t-SNE] Computed conditional probabilities for sample 1000 / 9240\n",
      "[t-SNE] Computed conditional probabilities for sample 2000 / 9240\n",
      "[t-SNE] Computed conditional probabilities for sample 3000 / 9240\n",
      "[t-SNE] Computed conditional probabilities for sample 4000 / 9240\n",
      "[t-SNE] Computed conditional probabilities for sample 5000 / 9240\n",
      "[t-SNE] Computed conditional probabilities for sample 6000 / 9240\n",
      "[t-SNE] Computed conditional probabilities for sample 7000 / 9240\n",
      "[t-SNE] Computed conditional probabilities for sample 8000 / 9240\n",
      "[t-SNE] Computed conditional probabilities for sample 9000 / 9240\n",
      "[t-SNE] Computed conditional probabilities for sample 9240 / 9240\n",
      "[t-SNE] Mean sigma: 0.907369\n",
      "[t-SNE] KL divergence after 250 iterations with early exaggeration: 86.089561\n",
      "[t-SNE] KL divergence after 1000 iterations: 1.592523\n",
      "Saving tsne plot to /Volumes/tcs_jf_fair_node_sampling/test_exprmt_diff_nr_graphs/data/plotting_exmpl/tsne_plots/pokec semi_0__alpha_0.2_exponent_8_p_1_q_1_other_AGE.pdf\n",
      "EMB FILE NAME p_0.1_q_1.emb.gz\n",
      "EMB FILE NAME p_0.1_q_0.1.emb.gz\n",
      "EMB FILE NAME p_1_q_1.emb.gz\n",
      "Found p_1_q_1 in p_1_q_1.emb.gz for experiment pokec semi graph 0\n",
      "Computing TSNE for /Volumes/tcs_jf_fair_node_sampling/test_exprmt_diff_nr_graphs/data/plotting_exmpl/tsne_plots/baseline_pokec semi_0_p_1_q_1_other_AGE.pdf\n",
      "[t-SNE] Computing 91 nearest neighbors...\n",
      "[t-SNE] Indexed 9240 samples in 0.000s...\n",
      "[t-SNE] Computed neighbors for 9240 samples in 0.878s...\n",
      "[t-SNE] Computed conditional probabilities for sample 1000 / 9240\n",
      "[t-SNE] Computed conditional probabilities for sample 2000 / 9240\n",
      "[t-SNE] Computed conditional probabilities for sample 3000 / 9240\n",
      "[t-SNE] Computed conditional probabilities for sample 4000 / 9240\n",
      "[t-SNE] Computed conditional probabilities for sample 5000 / 9240\n",
      "[t-SNE] Computed conditional probabilities for sample 6000 / 9240\n",
      "[t-SNE] Computed conditional probabilities for sample 7000 / 9240\n",
      "[t-SNE] Computed conditional probabilities for sample 8000 / 9240\n",
      "[t-SNE] Computed conditional probabilities for sample 9000 / 9240\n",
      "[t-SNE] Computed conditional probabilities for sample 9240 / 9240\n",
      "[t-SNE] Mean sigma: 0.980096\n",
      "[t-SNE] KL divergence after 250 iterations with early exaggeration: 87.529480\n"
     ]
    }
   ],
   "source": [
    "d_experiments = create_reporting_process_dict(data_dir=DATA_DIR, \n",
    "                                              sub_ex_name_start=SUB_EXPERIMENTS_NAME_START, \n",
    "                                              )\n",
    "\n",
    "plot_tsne(d_experiments=d_experiments,\n",
    "                    tsne_dict=tsne_dict,\n",
    "                    plotting_dir=plotting_dir,\n",
    "                    experiments_list=experiments_list, \n",
    "                    graph_nrs=graph_nrs,\n",
    "                    attributes=ATTRIBUTES, \n",
    "                    baseline=tsne_baseline, \n",
    "                    biased=tsne_biased, \n",
    "                    )\n",
    "\n"
   ]
  },
  {
   "cell_type": "markdown",
   "metadata": {},
   "source": [
    "# TODO\n",
    "\n",
    "\n",
    "## Connectivity\n",
    "\n",
    "## Multi dim plots (Heatmaps, boxe, lines, etc)"
   ]
  }
 ],
 "metadata": {
  "kernelspec": {
   "display_name": "arm_310thesis",
   "language": "python",
   "name": "python3"
  },
  "language_info": {
   "codemirror_mode": {
    "name": "ipython",
    "version": 3
   },
   "file_extension": ".py",
   "mimetype": "text/x-python",
   "name": "python",
   "nbconvert_exporter": "python",
   "pygments_lexer": "ipython3",
   "version": "3.10.0"
  }
 },
 "nbformat": 4,
 "nbformat_minor": 2
}

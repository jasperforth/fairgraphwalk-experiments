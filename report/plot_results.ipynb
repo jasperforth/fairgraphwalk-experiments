{
 "cells": [
  {
   "cell_type": "code",
   "execution_count": 1,
   "metadata": {},
   "source": [
    "from pathlib import Path\n",
    "\n",
    "from report_config import DATA_DIR, SUB_EXPERIMENTS_NAME_START, ATTRIBUTES\n",
    "\n",
    "from report_utils import plot_tsne, create_reporting_process_dict"
   ],
   "outputs": []
  },
  {
   "cell_type": "code",
   "execution_count": 2,
   "metadata": {},
   "source": [
    "plotting_folder_name = 'plotting_exmpl'\n",
    "\n",
    "plotting_dir = DATA_DIR / plotting_folder_name"
   ],
   "outputs": []
  },
  {
   "cell_type": "markdown",
   "metadata": {},
   "source": [
    "# TSNE Plotting\n",
    "\n",
    "choose the parameter combinations which you want to plot in tsne dict.\n",
    "\n",
    "further define if you want to plot for:\n",
    "\n",
    "experiment name\n",
    "\n",
    "graph numbers\n",
    "\n",
    "baseline and/or biased\n",
    "\n",
    "note: each plot will take some time to generate (~1ish minutes per plot, 8 cores CPU)"
   ]
  },
  {
   "cell_type": "code",
   "execution_count": 5,
   "metadata": {},
   "source": [
    "experiments_list = [\n",
    "    # 'pokec distinct',\n",
    "    'pokec semi'\n",
    "    ]\n",
    "\n",
    "graph_nrs = [\n",
    "    0,\n",
    "    1, \n",
    "]\n",
    "\n",
    "tsne_baseline = 1\n",
    "tsne_biased = 1\n",
    "\n",
    "tsne_dict = {\"p\": [1], \n",
    "             \"q\": [1], \n",
    "             \"alpha\": [0.2, 0.8], \n",
    "             \"exponent\": [8]\n",
    "}"
   ],
   "outputs": []
  },
  {
   "cell_type": "code",
   "execution_count": 6,
   "metadata": {},
   "source": [
    "d_experiments = create_reporting_process_dict(data_dir=DATA_DIR, \n",
    "                                              sub_ex_name_start=SUB_EXPERIMENTS_NAME_START, \n",
    "                                              )\n",
    "\n",
    "plot_tsne(d_experiments=d_experiments,\n",
    "                    tsne_dict=tsne_dict,\n",
    "                    plotting_dir=plotting_dir,\n",
    "                    experiments_list=experiments_list, \n",
    "                    graph_nrs=graph_nrs,\n",
    "                    attributes=ATTRIBUTES, \n",
    "                    baseline=tsne_baseline, \n",
    "                    biased=tsne_biased, \n",
    "                    )\n",
    "\n"
   ],
   "outputs": []
  },
  {
   "cell_type": "markdown",
   "metadata": {},
   "source": [
    "# TODO\n",
    "\n",
    "\n",
    "## Connectivity\n",
    "\n",
    "## Multi dim plots (Heatmaps, boxe, lines, etc)"
   ]
  }
 ],
 "metadata": {
  "kernelspec": {
   "display_name": "arm_310thesis",
   "language": "python",
   "name": "python3"
  },
  "language_info": {
   "codemirror_mode": {
    "name": "ipython",
    "version": 3
   },
   "file_extension": ".py",
   "mimetype": "text/x-python",
   "name": "python",
   "nbconvert_exporter": "python",
   "pygments_lexer": "ipython3",
   "version": "3.10.0"
  }
 },
 "nbformat": 4,
 "nbformat_minor": 2
}

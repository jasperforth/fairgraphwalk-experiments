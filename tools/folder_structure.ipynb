{
 "cells": [
  {
   "cell_type": "code",
   "execution_count": 3,
   "metadata": {},
   "outputs": [],
   "source": [
    "import os\n",
    "\n",
    "def generate_clean_folder_structure(start_path, output_file):\n",
    "    exclude_files = {'__init__.py', '.gitignore', '.DS_Store', 'LICENSE', \n",
    "                     'requirements.txt', 'README.md', 'folder_structure.txt'}\n",
    "    exclude_dirs = {'.git', '__pycache__', 'tools', '.vscode', 'archive'}\n",
    "    \n",
    "    with open(output_file, 'w') as f:\n",
    "        for root, dirs, files in os.walk(start_path):\n",
    "            dirs[:] = [d for d in dirs if d not in exclude_dirs]\n",
    "            level = root.replace(start_path, '').count(os.sep)\n",
    "            indent = ' ' * 4 * level\n",
    "            f.write('{}{}/\\n'.format(indent, os.path.basename(root)))\n",
    "            sub_indent = ' ' * 4 * (level + 1)\n",
    "            for file in files:\n",
    "                if (file.endswith('.py') or file.endswith('.ipynb')) and file not in exclude_files:\n",
    "                    f.write('{}{}\\n'.format(sub_indent, file))\n"
   ]
  },
  {
   "cell_type": "code",
   "execution_count": 4,
   "metadata": {},
   "outputs": [
    {
     "name": "stdout",
     "output_type": "stream",
     "text": [
      "Folder structure saved to /Users/jf/_lokal/PAPER1_fairnode/fair_nodesampling/folder_structure.txt\n"
     ]
    }
   ],
   "source": [
    "\n",
    "project_root = \"/Users/jf/_lokal/PAPER1_fairnode/fair_nodesampling\"  \n",
    "output_file = os.path.join(project_root, \"folder_structure.txt\")\n",
    "generate_clean_folder_structure(project_root, output_file)\n",
    "print(f\"Folder structure saved to {output_file}\")\n"
   ]
  }
 ],
 "metadata": {
  "kernelspec": {
   "display_name": "arm_310thesis",
   "language": "python",
   "name": "python3"
  },
  "language_info": {
   "codemirror_mode": {
    "name": "ipython",
    "version": 3
   },
   "file_extension": ".py",
   "mimetype": "text/x-python",
   "name": "python",
   "nbconvert_exporter": "python",
   "pygments_lexer": "ipython3",
   "version": "3.10.0"
  }
 },
 "nbformat": 4,
 "nbformat_minor": 2
}
